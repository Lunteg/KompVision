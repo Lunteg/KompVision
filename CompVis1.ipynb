{
  "nbformat": 4,
  "nbformat_minor": 0,
  "metadata": {
    "colab": {
      "provenance": []
    },
    "kernelspec": {
      "name": "python3",
      "display_name": "Python 3"
    },
    "language_info": {
      "name": "python"
    }
  },
  "cells": [
    {
      "cell_type": "code",
      "source": [
        "import os\n",
        "import cv2\n",
        "import numpy as np\n",
        "from matplotlib import pyplot as plt"
      ],
      "metadata": {
        "id": "6Crz-Rcq7MKi"
      },
      "execution_count": 2,
      "outputs": []
    },
    {
      "cell_type": "code",
      "source": [
        "from google.colab import drive\n",
        "drive.mount('/content/gdrive')"
      ],
      "metadata": {
        "id": "DXQyGOw77nsg"
      },
      "execution_count": null,
      "outputs": []
    },
    {
      "cell_type": "code",
      "execution_count": 45,
      "metadata": {
        "id": "Pe_HCKrywNJt",
        "colab": {
          "base_uri": "https://localhost:8080/",
          "height": 403
        },
        "outputId": "8621fbda-2947-4a08-939f-9f12b7944932"
      },
      "outputs": [
        {
          "output_type": "stream",
          "name": "stdout",
          "text": [
            "[-2.0, -2.3, -1.7, -1.3, -0.7, -1.0, 0.0, -0.3, 0.7, 0.3, 1.3, 1.0, 2.0, 1.7, 2.7, 2.3, 3.7, 3.3, 3.0, 4.0, -4.0, -3.7, -3.3, -3.0, -2.7]\n",
            "[19.03002047 19.03659487 19.20529928 19.55235765 19.76410379 19.76676667\n",
            " 20.17702164 19.99108168 20.2465539  20.22019291 20.41243753 20.36201336\n",
            " 20.59688038 20.42363094 20.62271945 20.61954745 20.6217693  20.62070399\n",
            " 20.62225295 20.62408147 18.16456817 18.18687351 18.13666576 18.11298412\n",
            " 18.7509817 ]\n"
          ]
        },
        {
          "output_type": "display_data",
          "data": {
            "text/plain": [
              "<Figure size 432x288 with 1 Axes>"
            ],
            "image/png": "[encoded data removed]"
          },
          "metadata": {
            "needs_background": "light"
          }
        }
      ],
      "source": [
        "def avg_brightness(name, left_bound, right_bound, bottom_bound, top_bound):\n",
        "  img = cv2.imread(name, cv2.IMREAD_GRAYSCALE) # Считываем изображение в черно-белом формате\n",
        "  \n",
        "  crop_img = img[bottom_bound:top_bound, left_bound:right_bound]\n",
        "\n",
        "  crop_bright = 0\n",
        "  for i in range(crop_img.shape[0]):\n",
        "    for j in range(crop_img.shape[1]):\n",
        "      crop_bright += crop_img[i, j]\n",
        "  return crop_bright / crop_img.shape[0] * crop_img.shape[1]\n",
        "\n",
        "ev = []\n",
        "avg_bright = []\n",
        "dir = '/content/drive/MyDrive/compvis/'\n",
        "for filename in os.listdir(dir):\n",
        "  ev_i = float(filename[: -len('.jpg')])\n",
        "  ev.append(ev_i)\n",
        "  avg_bright.append(avg_brightness(dir + filename, 1000, 1080, 600, 680))\n",
        "\n",
        "\n",
        "print(ev)\n",
        "print(np.log2(avg_bright))\n",
        "plt.scatter(ev, np.log2(avg_bright))\n",
        "plt.xlabel('Значения экспозиции')\n",
        "plt.ylabel('Средняя яркость по логарифму2')\n",
        "plt.grid()"
      ]
    },
    {
      "cell_type": "markdown",
      "source": [
        "Динамическая область:\n",
        "\n",
        "По старому определнию (линейная область) - от 18.7509817 до  20.41243753 (средняя яркость); от -3 до 2 по EV.\n",
        "\n",
        "По новому определению - от  18.11298412 до 20.62225295"
      ],
      "metadata": {
        "id": "zIMIvoi0t8Vp"
      }
    }
  ]
}